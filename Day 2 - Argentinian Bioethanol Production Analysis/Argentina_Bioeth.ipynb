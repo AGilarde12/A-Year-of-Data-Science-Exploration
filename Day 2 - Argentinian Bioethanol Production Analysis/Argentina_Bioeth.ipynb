{
 "cells": [
  {
   "cell_type": "markdown",
   "metadata": {},
   "source": [
    "# Argentinian Bioethanol Analysis\n",
    "Today I wanted to try my hand at quickly understanding and forecasting a time-series dataset. I tried to find one that would challenge myself to quickly translate data. I've studied Spanish for a couple of years and found that the Argentinian government has some interesting datasets. I decided to check out the dataset for the Production of Bioethanol. It's expressed in cubic meters according to the input used in its production.\n",
    "\n",
    "The portal for all of their around 1k datasets is here:\n",
    "https://datos.gob.ar/dataset\n",
    "\n",
    "\n",
    "The download for the Bioethanol data is here:\n",
    "https://datos.agroindustria.gob.ar/dataset/produccion-bioetanol-por-insumo-utilizado"
   ]
  },
  {
   "cell_type": "code",
   "execution_count": 1,
   "metadata": {},
   "outputs": [],
   "source": [
    "import pandas as pd\n",
    "import os\n",
    "from google_trans_new import google_translator \n",
    "#Get the current directory of the notebook\n",
    "c_director = os.getcwd()"
   ]
  },
  {
   "cell_type": "code",
   "execution_count": 2,
   "metadata": {},
   "outputs": [
    {
     "output_type": "execute_result",
     "data": {
      "text/plain": [
       "    id_pais   nom_pais   año         mes cod_unimed      nom_unimed   caña  \\\n",
       "0        32  Argentina  2017       Enero         m3  metros cubicos  37794   \n",
       "1        32  Argentina  2017     Febrero         m3  metros cubicos  35607   \n",
       "2        32  Argentina  2017       Marzo         m3  metros cubicos  38696   \n",
       "3        32  Argentina  2017       Abril         m3  metros cubicos  35355   \n",
       "4        32  Argentina  2017        Mayo         m3  metros cubicos  44053   \n",
       "5        32  Argentina  2017       Junio         m3  metros cubicos  51159   \n",
       "6        32  Argentina  2017       Julio         m3  metros cubicos  53924   \n",
       "7        32  Argentina  2017      Agosto         m3  metros cubicos  55711   \n",
       "8        32  Argentina  2017  Septiembre         m3  metros cubicos  55345   \n",
       "9        32  Argentina  2017     Octubre         m3  metros cubicos  60415   \n",
       "10       32  Argentina  2017   Noviembre         m3  metros cubicos  48724   \n",
       "11       32  Argentina  2017   Diciembre         m3  metros cubicos  36361   \n",
       "12       32  Argentina  2018       Enero         m3  metros cubicos  33251   \n",
       "13       32  Argentina  2018     Febrero         m3  metros cubicos  35328   \n",
       "14       32  Argentina  2018       Marzo         m3  metros cubicos  17968   \n",
       "15       32  Argentina  2018      Abril          m3  metros cubicos  24522   \n",
       "16       32  Argentina  2018        Mayo         m3  metros cubicos  38336   \n",
       "17       32  Argentina  2018       Junio         m3  metros cubicos  57254   \n",
       "18       32  Argentina  2018       Julio         m3  metros cubicos  60456   \n",
       "19       32  Argentina  2018      Agosto         m3  metros cubicos  59362   \n",
       "20       32  Argentina  2018  Septiembre         m3  metros cubicos  59862   \n",
       "21       32  Argentina  2018     Octubre         m3  metros cubicos  54597   \n",
       "22       32  Argentina  2018   Noviembre         m3  metros cubicos  49554   \n",
       "23       32  Argentina  2018   Diciembre         m3  metros cubicos  37673   \n",
       "24       32  Argentina  2019       Enero         m3  metros cubicos  30505   \n",
       "25       32  Argentina  2019     Febrero         m3  metros cubicos  26711   \n",
       "26       32  Argentina  2019       Marzo         m3  metros cubicos  28898   \n",
       "27       32  Argentina  2019       Abril         m3  metros cubicos  17289   \n",
       "28       32  Argentina  2019        Mayo         m3  metros cubicos  37316   \n",
       "\n",
       "     maiz   total  \n",
       "0   46551   84345  \n",
       "1   44489   80096  \n",
       "2   44100   82796  \n",
       "3   45218   80573  \n",
       "4   40222   84275  \n",
       "5   41800   92959  \n",
       "6   43396   97320  \n",
       "7   48852  104563  \n",
       "8   47483  102828  \n",
       "9   50850  111265  \n",
       "10  47841   96565  \n",
       "11  51160   87521  \n",
       "12  50443   83694  \n",
       "13  45593   80921  \n",
       "14  49519   67487  \n",
       "15  50537   75059  \n",
       "16  49606   87942  \n",
       "17  49484  106738  \n",
       "18  46815  107271  \n",
       "19  47953  107315  \n",
       "20  46146  106008  \n",
       "21  48608  103205  \n",
       "22  48981   98535  \n",
       "23  51933   89606  \n",
       "24  39815   70320  \n",
       "25  41685   68396  \n",
       "26  47939   76837  \n",
       "27  49952   67241  \n",
       "28  47848   85164  "
      ],
      "text/html": "<div>\n<style scoped>\n    .dataframe tbody tr th:only-of-type {\n        vertical-align: middle;\n    }\n\n    .dataframe tbody tr th {\n        vertical-align: top;\n    }\n\n    .dataframe thead th {\n        text-align: right;\n    }\n</style>\n<table border=\"1\" class=\"dataframe\">\n  <thead>\n    <tr style=\"text-align: right;\">\n      <th></th>\n      <th>id_pais</th>\n      <th>nom_pais</th>\n      <th>año</th>\n      <th>mes</th>\n      <th>cod_unimed</th>\n      <th>nom_unimed</th>\n      <th>caña</th>\n      <th>maiz</th>\n      <th>total</th>\n    </tr>\n  </thead>\n  <tbody>\n    <tr>\n      <th>0</th>\n      <td>32</td>\n      <td>Argentina</td>\n      <td>2017</td>\n      <td>Enero</td>\n      <td>m3</td>\n      <td>metros cubicos</td>\n      <td>37794</td>\n      <td>46551</td>\n      <td>84345</td>\n    </tr>\n    <tr>\n      <th>1</th>\n      <td>32</td>\n      <td>Argentina</td>\n      <td>2017</td>\n      <td>Febrero</td>\n      <td>m3</td>\n      <td>metros cubicos</td>\n      <td>35607</td>\n      <td>44489</td>\n      <td>80096</td>\n    </tr>\n    <tr>\n      <th>2</th>\n      <td>32</td>\n      <td>Argentina</td>\n      <td>2017</td>\n      <td>Marzo</td>\n      <td>m3</td>\n      <td>metros cubicos</td>\n      <td>38696</td>\n      <td>44100</td>\n      <td>82796</td>\n    </tr>\n    <tr>\n      <th>3</th>\n      <td>32</td>\n      <td>Argentina</td>\n      <td>2017</td>\n      <td>Abril</td>\n      <td>m3</td>\n      <td>metros cubicos</td>\n      <td>35355</td>\n      <td>45218</td>\n      <td>80573</td>\n    </tr>\n    <tr>\n      <th>4</th>\n      <td>32</td>\n      <td>Argentina</td>\n      <td>2017</td>\n      <td>Mayo</td>\n      <td>m3</td>\n      <td>metros cubicos</td>\n      <td>44053</td>\n      <td>40222</td>\n      <td>84275</td>\n    </tr>\n    <tr>\n      <th>5</th>\n      <td>32</td>\n      <td>Argentina</td>\n      <td>2017</td>\n      <td>Junio</td>\n      <td>m3</td>\n      <td>metros cubicos</td>\n      <td>51159</td>\n      <td>41800</td>\n      <td>92959</td>\n    </tr>\n    <tr>\n      <th>6</th>\n      <td>32</td>\n      <td>Argentina</td>\n      <td>2017</td>\n      <td>Julio</td>\n      <td>m3</td>\n      <td>metros cubicos</td>\n      <td>53924</td>\n      <td>43396</td>\n      <td>97320</td>\n    </tr>\n    <tr>\n      <th>7</th>\n      <td>32</td>\n      <td>Argentina</td>\n      <td>2017</td>\n      <td>Agosto</td>\n      <td>m3</td>\n      <td>metros cubicos</td>\n      <td>55711</td>\n      <td>48852</td>\n      <td>104563</td>\n    </tr>\n    <tr>\n      <th>8</th>\n      <td>32</td>\n      <td>Argentina</td>\n      <td>2017</td>\n      <td>Septiembre</td>\n      <td>m3</td>\n      <td>metros cubicos</td>\n      <td>55345</td>\n      <td>47483</td>\n      <td>102828</td>\n    </tr>\n    <tr>\n      <th>9</th>\n      <td>32</td>\n      <td>Argentina</td>\n      <td>2017</td>\n      <td>Octubre</td>\n      <td>m3</td>\n      <td>metros cubicos</td>\n      <td>60415</td>\n      <td>50850</td>\n      <td>111265</td>\n    </tr>\n    <tr>\n      <th>10</th>\n      <td>32</td>\n      <td>Argentina</td>\n      <td>2017</td>\n      <td>Noviembre</td>\n      <td>m3</td>\n      <td>metros cubicos</td>\n      <td>48724</td>\n      <td>47841</td>\n      <td>96565</td>\n    </tr>\n    <tr>\n      <th>11</th>\n      <td>32</td>\n      <td>Argentina</td>\n      <td>2017</td>\n      <td>Diciembre</td>\n      <td>m3</td>\n      <td>metros cubicos</td>\n      <td>36361</td>\n      <td>51160</td>\n      <td>87521</td>\n    </tr>\n    <tr>\n      <th>12</th>\n      <td>32</td>\n      <td>Argentina</td>\n      <td>2018</td>\n      <td>Enero</td>\n      <td>m3</td>\n      <td>metros cubicos</td>\n      <td>33251</td>\n      <td>50443</td>\n      <td>83694</td>\n    </tr>\n    <tr>\n      <th>13</th>\n      <td>32</td>\n      <td>Argentina</td>\n      <td>2018</td>\n      <td>Febrero</td>\n      <td>m3</td>\n      <td>metros cubicos</td>\n      <td>35328</td>\n      <td>45593</td>\n      <td>80921</td>\n    </tr>\n    <tr>\n      <th>14</th>\n      <td>32</td>\n      <td>Argentina</td>\n      <td>2018</td>\n      <td>Marzo</td>\n      <td>m3</td>\n      <td>metros cubicos</td>\n      <td>17968</td>\n      <td>49519</td>\n      <td>67487</td>\n    </tr>\n    <tr>\n      <th>15</th>\n      <td>32</td>\n      <td>Argentina</td>\n      <td>2018</td>\n      <td>Abril</td>\n      <td>m3</td>\n      <td>metros cubicos</td>\n      <td>24522</td>\n      <td>50537</td>\n      <td>75059</td>\n    </tr>\n    <tr>\n      <th>16</th>\n      <td>32</td>\n      <td>Argentina</td>\n      <td>2018</td>\n      <td>Mayo</td>\n      <td>m3</td>\n      <td>metros cubicos</td>\n      <td>38336</td>\n      <td>49606</td>\n      <td>87942</td>\n    </tr>\n    <tr>\n      <th>17</th>\n      <td>32</td>\n      <td>Argentina</td>\n      <td>2018</td>\n      <td>Junio</td>\n      <td>m3</td>\n      <td>metros cubicos</td>\n      <td>57254</td>\n      <td>49484</td>\n      <td>106738</td>\n    </tr>\n    <tr>\n      <th>18</th>\n      <td>32</td>\n      <td>Argentina</td>\n      <td>2018</td>\n      <td>Julio</td>\n      <td>m3</td>\n      <td>metros cubicos</td>\n      <td>60456</td>\n      <td>46815</td>\n      <td>107271</td>\n    </tr>\n    <tr>\n      <th>19</th>\n      <td>32</td>\n      <td>Argentina</td>\n      <td>2018</td>\n      <td>Agosto</td>\n      <td>m3</td>\n      <td>metros cubicos</td>\n      <td>59362</td>\n      <td>47953</td>\n      <td>107315</td>\n    </tr>\n    <tr>\n      <th>20</th>\n      <td>32</td>\n      <td>Argentina</td>\n      <td>2018</td>\n      <td>Septiembre</td>\n      <td>m3</td>\n      <td>metros cubicos</td>\n      <td>59862</td>\n      <td>46146</td>\n      <td>106008</td>\n    </tr>\n    <tr>\n      <th>21</th>\n      <td>32</td>\n      <td>Argentina</td>\n      <td>2018</td>\n      <td>Octubre</td>\n      <td>m3</td>\n      <td>metros cubicos</td>\n      <td>54597</td>\n      <td>48608</td>\n      <td>103205</td>\n    </tr>\n    <tr>\n      <th>22</th>\n      <td>32</td>\n      <td>Argentina</td>\n      <td>2018</td>\n      <td>Noviembre</td>\n      <td>m3</td>\n      <td>metros cubicos</td>\n      <td>49554</td>\n      <td>48981</td>\n      <td>98535</td>\n    </tr>\n    <tr>\n      <th>23</th>\n      <td>32</td>\n      <td>Argentina</td>\n      <td>2018</td>\n      <td>Diciembre</td>\n      <td>m3</td>\n      <td>metros cubicos</td>\n      <td>37673</td>\n      <td>51933</td>\n      <td>89606</td>\n    </tr>\n    <tr>\n      <th>24</th>\n      <td>32</td>\n      <td>Argentina</td>\n      <td>2019</td>\n      <td>Enero</td>\n      <td>m3</td>\n      <td>metros cubicos</td>\n      <td>30505</td>\n      <td>39815</td>\n      <td>70320</td>\n    </tr>\n    <tr>\n      <th>25</th>\n      <td>32</td>\n      <td>Argentina</td>\n      <td>2019</td>\n      <td>Febrero</td>\n      <td>m3</td>\n      <td>metros cubicos</td>\n      <td>26711</td>\n      <td>41685</td>\n      <td>68396</td>\n    </tr>\n    <tr>\n      <th>26</th>\n      <td>32</td>\n      <td>Argentina</td>\n      <td>2019</td>\n      <td>Marzo</td>\n      <td>m3</td>\n      <td>metros cubicos</td>\n      <td>28898</td>\n      <td>47939</td>\n      <td>76837</td>\n    </tr>\n    <tr>\n      <th>27</th>\n      <td>32</td>\n      <td>Argentina</td>\n      <td>2019</td>\n      <td>Abril</td>\n      <td>m3</td>\n      <td>metros cubicos</td>\n      <td>17289</td>\n      <td>49952</td>\n      <td>67241</td>\n    </tr>\n    <tr>\n      <th>28</th>\n      <td>32</td>\n      <td>Argentina</td>\n      <td>2019</td>\n      <td>Mayo</td>\n      <td>m3</td>\n      <td>metros cubicos</td>\n      <td>37316</td>\n      <td>47848</td>\n      <td>85164</td>\n    </tr>\n  </tbody>\n</table>\n</div>"
     },
     "metadata": {},
     "execution_count": 2
    }
   ],
   "source": [
    "data = pd.read_csv(c_director + r'\\\\produccion-de-bioetanol-por-insumo-.csv')\n",
    "data = pd.DataFrame(data)\n",
    "data"
   ]
  },
  {
   "cell_type": "markdown",
   "metadata": {},
   "source": [
    "## Renaming Columns and Row Data to English"
   ]
  },
  {
   "cell_type": "code",
   "execution_count": 3,
   "metadata": {},
   "outputs": [],
   "source": [
    "df_eng = data.rename({'id_pais':'parent_id',\n",
    "                  'nom_pais':'parent_name',\n",
    "                  'año':'year','mes':'month',\n",
    "                  'cod_unimed':'measurement_code',\n",
    "                  'nom_unimed':'measurement',\n",
    "                  'caña':'sugar_cane',\n",
    "                  'maiz':'corn'}, \n",
    "                  axis = 1)\n",
    "\n",
    "# We can also do automated translations through the Google Translate API below"
   ]
  },
  {
   "source": [
    "### Quick Demonstration of the Google Translate API"
   ],
   "cell_type": "markdown",
   "metadata": {}
  },
  {
   "cell_type": "code",
   "execution_count": 4,
   "metadata": {},
   "outputs": [
    {
     "output_type": "execute_result",
     "data": {
      "text/plain": [
       "'January '"
      ]
     },
     "metadata": {},
     "execution_count": 4
    }
   ],
   "source": [
    "#define the translator as the US tranlsation API\n",
    "translator = google_translator(url_suffix=\"us\",timeout=5)  \n",
    "#Quick demonstration translating \"enero\" to January (ES --> EN)\n",
    "translate_text = translator.translate('enero',lang_src='auto',lang_tgt='auto') \n",
    "translate_text"
   ]
  },
  {
   "cell_type": "code",
   "execution_count": 5,
   "metadata": {},
   "outputs": [],
   "source": [
    "translations = {}\n",
    "df_translate = df_eng[['month','measurement']]\n",
    "for i in df_translate.columns:\n",
    "    unique = df_translate[i].unique()\n",
    "\n",
    "    for k in unique:\n",
    "        translations[k] = translator.translate(k)\n",
    "\n",
    "#It had trouble translating this - Always check your translations\n",
    "translations['Mayo'] = \"May\""
   ]
  },
  {
   "cell_type": "code",
   "execution_count": 6,
   "metadata": {},
   "outputs": [
    {
     "output_type": "execute_result",
     "data": {
      "text/plain": [
       "    parent_id parent_name  year       month measurement_code    measurement  \\\n",
       "0          32   Argentina  2017    January                m3  cubic meters    \n",
       "1          32   Argentina  2017   February                m3  cubic meters    \n",
       "2          32   Argentina  2017      March                m3  cubic meters    \n",
       "3          32   Argentina  2017      April                m3  cubic meters    \n",
       "4          32   Argentina  2017         May               m3  cubic meters    \n",
       "5          32   Argentina  2017       June                m3  cubic meters    \n",
       "6          32   Argentina  2017       July                m3  cubic meters    \n",
       "7          32   Argentina  2017     August                m3  cubic meters    \n",
       "8          32   Argentina  2017  September                m3  cubic meters    \n",
       "9          32   Argentina  2017    October                m3  cubic meters    \n",
       "10         32   Argentina  2017   November                m3  cubic meters    \n",
       "11         32   Argentina  2017   December                m3  cubic meters    \n",
       "12         32   Argentina  2018    January                m3  cubic meters    \n",
       "13         32   Argentina  2018   February                m3  cubic meters    \n",
       "14         32   Argentina  2018      March                m3  cubic meters    \n",
       "15         32   Argentina  2018      April                m3  cubic meters    \n",
       "16         32   Argentina  2018         May               m3  cubic meters    \n",
       "17         32   Argentina  2018       June                m3  cubic meters    \n",
       "18         32   Argentina  2018       July                m3  cubic meters    \n",
       "19         32   Argentina  2018     August                m3  cubic meters    \n",
       "20         32   Argentina  2018  September                m3  cubic meters    \n",
       "21         32   Argentina  2018    October                m3  cubic meters    \n",
       "22         32   Argentina  2018   November                m3  cubic meters    \n",
       "23         32   Argentina  2018   December                m3  cubic meters    \n",
       "24         32   Argentina  2019    January                m3  cubic meters    \n",
       "25         32   Argentina  2019   February                m3  cubic meters    \n",
       "26         32   Argentina  2019      March                m3  cubic meters    \n",
       "27         32   Argentina  2019      April                m3  cubic meters    \n",
       "28         32   Argentina  2019         May               m3  cubic meters    \n",
       "\n",
       "    sugar_cane   corn   total  \n",
       "0        37794  46551   84345  \n",
       "1        35607  44489   80096  \n",
       "2        38696  44100   82796  \n",
       "3        35355  45218   80573  \n",
       "4        44053  40222   84275  \n",
       "5        51159  41800   92959  \n",
       "6        53924  43396   97320  \n",
       "7        55711  48852  104563  \n",
       "8        55345  47483  102828  \n",
       "9        60415  50850  111265  \n",
       "10       48724  47841   96565  \n",
       "11       36361  51160   87521  \n",
       "12       33251  50443   83694  \n",
       "13       35328  45593   80921  \n",
       "14       17968  49519   67487  \n",
       "15       24522  50537   75059  \n",
       "16       38336  49606   87942  \n",
       "17       57254  49484  106738  \n",
       "18       60456  46815  107271  \n",
       "19       59362  47953  107315  \n",
       "20       59862  46146  106008  \n",
       "21       54597  48608  103205  \n",
       "22       49554  48981   98535  \n",
       "23       37673  51933   89606  \n",
       "24       30505  39815   70320  \n",
       "25       26711  41685   68396  \n",
       "26       28898  47939   76837  \n",
       "27       17289  49952   67241  \n",
       "28       37316  47848   85164  "
      ],
      "text/html": "<div>\n<style scoped>\n    .dataframe tbody tr th:only-of-type {\n        vertical-align: middle;\n    }\n\n    .dataframe tbody tr th {\n        vertical-align: top;\n    }\n\n    .dataframe thead th {\n        text-align: right;\n    }\n</style>\n<table border=\"1\" class=\"dataframe\">\n  <thead>\n    <tr style=\"text-align: right;\">\n      <th></th>\n      <th>parent_id</th>\n      <th>parent_name</th>\n      <th>year</th>\n      <th>month</th>\n      <th>measurement_code</th>\n      <th>measurement</th>\n      <th>sugar_cane</th>\n      <th>corn</th>\n      <th>total</th>\n    </tr>\n  </thead>\n  <tbody>\n    <tr>\n      <th>0</th>\n      <td>32</td>\n      <td>Argentina</td>\n      <td>2017</td>\n      <td>January</td>\n      <td>m3</td>\n      <td>cubic meters</td>\n      <td>37794</td>\n      <td>46551</td>\n      <td>84345</td>\n    </tr>\n    <tr>\n      <th>1</th>\n      <td>32</td>\n      <td>Argentina</td>\n      <td>2017</td>\n      <td>February</td>\n      <td>m3</td>\n      <td>cubic meters</td>\n      <td>35607</td>\n      <td>44489</td>\n      <td>80096</td>\n    </tr>\n    <tr>\n      <th>2</th>\n      <td>32</td>\n      <td>Argentina</td>\n      <td>2017</td>\n      <td>March</td>\n      <td>m3</td>\n      <td>cubic meters</td>\n      <td>38696</td>\n      <td>44100</td>\n      <td>82796</td>\n    </tr>\n    <tr>\n      <th>3</th>\n      <td>32</td>\n      <td>Argentina</td>\n      <td>2017</td>\n      <td>April</td>\n      <td>m3</td>\n      <td>cubic meters</td>\n      <td>35355</td>\n      <td>45218</td>\n      <td>80573</td>\n    </tr>\n    <tr>\n      <th>4</th>\n      <td>32</td>\n      <td>Argentina</td>\n      <td>2017</td>\n      <td>May</td>\n      <td>m3</td>\n      <td>cubic meters</td>\n      <td>44053</td>\n      <td>40222</td>\n      <td>84275</td>\n    </tr>\n    <tr>\n      <th>5</th>\n      <td>32</td>\n      <td>Argentina</td>\n      <td>2017</td>\n      <td>June</td>\n      <td>m3</td>\n      <td>cubic meters</td>\n      <td>51159</td>\n      <td>41800</td>\n      <td>92959</td>\n    </tr>\n    <tr>\n      <th>6</th>\n      <td>32</td>\n      <td>Argentina</td>\n      <td>2017</td>\n      <td>July</td>\n      <td>m3</td>\n      <td>cubic meters</td>\n      <td>53924</td>\n      <td>43396</td>\n      <td>97320</td>\n    </tr>\n    <tr>\n      <th>7</th>\n      <td>32</td>\n      <td>Argentina</td>\n      <td>2017</td>\n      <td>August</td>\n      <td>m3</td>\n      <td>cubic meters</td>\n      <td>55711</td>\n      <td>48852</td>\n      <td>104563</td>\n    </tr>\n    <tr>\n      <th>8</th>\n      <td>32</td>\n      <td>Argentina</td>\n      <td>2017</td>\n      <td>September</td>\n      <td>m3</td>\n      <td>cubic meters</td>\n      <td>55345</td>\n      <td>47483</td>\n      <td>102828</td>\n    </tr>\n    <tr>\n      <th>9</th>\n      <td>32</td>\n      <td>Argentina</td>\n      <td>2017</td>\n      <td>October</td>\n      <td>m3</td>\n      <td>cubic meters</td>\n      <td>60415</td>\n      <td>50850</td>\n      <td>111265</td>\n    </tr>\n    <tr>\n      <th>10</th>\n      <td>32</td>\n      <td>Argentina</td>\n      <td>2017</td>\n      <td>November</td>\n      <td>m3</td>\n      <td>cubic meters</td>\n      <td>48724</td>\n      <td>47841</td>\n      <td>96565</td>\n    </tr>\n    <tr>\n      <th>11</th>\n      <td>32</td>\n      <td>Argentina</td>\n      <td>2017</td>\n      <td>December</td>\n      <td>m3</td>\n      <td>cubic meters</td>\n      <td>36361</td>\n      <td>51160</td>\n      <td>87521</td>\n    </tr>\n    <tr>\n      <th>12</th>\n      <td>32</td>\n      <td>Argentina</td>\n      <td>2018</td>\n      <td>January</td>\n      <td>m3</td>\n      <td>cubic meters</td>\n      <td>33251</td>\n      <td>50443</td>\n      <td>83694</td>\n    </tr>\n    <tr>\n      <th>13</th>\n      <td>32</td>\n      <td>Argentina</td>\n      <td>2018</td>\n      <td>February</td>\n      <td>m3</td>\n      <td>cubic meters</td>\n      <td>35328</td>\n      <td>45593</td>\n      <td>80921</td>\n    </tr>\n    <tr>\n      <th>14</th>\n      <td>32</td>\n      <td>Argentina</td>\n      <td>2018</td>\n      <td>March</td>\n      <td>m3</td>\n      <td>cubic meters</td>\n      <td>17968</td>\n      <td>49519</td>\n      <td>67487</td>\n    </tr>\n    <tr>\n      <th>15</th>\n      <td>32</td>\n      <td>Argentina</td>\n      <td>2018</td>\n      <td>April</td>\n      <td>m3</td>\n      <td>cubic meters</td>\n      <td>24522</td>\n      <td>50537</td>\n      <td>75059</td>\n    </tr>\n    <tr>\n      <th>16</th>\n      <td>32</td>\n      <td>Argentina</td>\n      <td>2018</td>\n      <td>May</td>\n      <td>m3</td>\n      <td>cubic meters</td>\n      <td>38336</td>\n      <td>49606</td>\n      <td>87942</td>\n    </tr>\n    <tr>\n      <th>17</th>\n      <td>32</td>\n      <td>Argentina</td>\n      <td>2018</td>\n      <td>June</td>\n      <td>m3</td>\n      <td>cubic meters</td>\n      <td>57254</td>\n      <td>49484</td>\n      <td>106738</td>\n    </tr>\n    <tr>\n      <th>18</th>\n      <td>32</td>\n      <td>Argentina</td>\n      <td>2018</td>\n      <td>July</td>\n      <td>m3</td>\n      <td>cubic meters</td>\n      <td>60456</td>\n      <td>46815</td>\n      <td>107271</td>\n    </tr>\n    <tr>\n      <th>19</th>\n      <td>32</td>\n      <td>Argentina</td>\n      <td>2018</td>\n      <td>August</td>\n      <td>m3</td>\n      <td>cubic meters</td>\n      <td>59362</td>\n      <td>47953</td>\n      <td>107315</td>\n    </tr>\n    <tr>\n      <th>20</th>\n      <td>32</td>\n      <td>Argentina</td>\n      <td>2018</td>\n      <td>September</td>\n      <td>m3</td>\n      <td>cubic meters</td>\n      <td>59862</td>\n      <td>46146</td>\n      <td>106008</td>\n    </tr>\n    <tr>\n      <th>21</th>\n      <td>32</td>\n      <td>Argentina</td>\n      <td>2018</td>\n      <td>October</td>\n      <td>m3</td>\n      <td>cubic meters</td>\n      <td>54597</td>\n      <td>48608</td>\n      <td>103205</td>\n    </tr>\n    <tr>\n      <th>22</th>\n      <td>32</td>\n      <td>Argentina</td>\n      <td>2018</td>\n      <td>November</td>\n      <td>m3</td>\n      <td>cubic meters</td>\n      <td>49554</td>\n      <td>48981</td>\n      <td>98535</td>\n    </tr>\n    <tr>\n      <th>23</th>\n      <td>32</td>\n      <td>Argentina</td>\n      <td>2018</td>\n      <td>December</td>\n      <td>m3</td>\n      <td>cubic meters</td>\n      <td>37673</td>\n      <td>51933</td>\n      <td>89606</td>\n    </tr>\n    <tr>\n      <th>24</th>\n      <td>32</td>\n      <td>Argentina</td>\n      <td>2019</td>\n      <td>January</td>\n      <td>m3</td>\n      <td>cubic meters</td>\n      <td>30505</td>\n      <td>39815</td>\n      <td>70320</td>\n    </tr>\n    <tr>\n      <th>25</th>\n      <td>32</td>\n      <td>Argentina</td>\n      <td>2019</td>\n      <td>February</td>\n      <td>m3</td>\n      <td>cubic meters</td>\n      <td>26711</td>\n      <td>41685</td>\n      <td>68396</td>\n    </tr>\n    <tr>\n      <th>26</th>\n      <td>32</td>\n      <td>Argentina</td>\n      <td>2019</td>\n      <td>March</td>\n      <td>m3</td>\n      <td>cubic meters</td>\n      <td>28898</td>\n      <td>47939</td>\n      <td>76837</td>\n    </tr>\n    <tr>\n      <th>27</th>\n      <td>32</td>\n      <td>Argentina</td>\n      <td>2019</td>\n      <td>April</td>\n      <td>m3</td>\n      <td>cubic meters</td>\n      <td>17289</td>\n      <td>49952</td>\n      <td>67241</td>\n    </tr>\n    <tr>\n      <th>28</th>\n      <td>32</td>\n      <td>Argentina</td>\n      <td>2019</td>\n      <td>May</td>\n      <td>m3</td>\n      <td>cubic meters</td>\n      <td>37316</td>\n      <td>47848</td>\n      <td>85164</td>\n    </tr>\n  </tbody>\n</table>\n</div>"
     },
     "metadata": {},
     "execution_count": 6
    }
   ],
   "source": [
    "#Replace the spanish data points with English\n",
    "df_eng.replace(translations, inplace=True)\n",
    "df_eng"
   ]
  },
  {
   "source": [
    "Now that our data is prepared, let's fit some time-series graphs and a forecast model for fun before time's up\n",
    "\n",
    "I also want to make my plots interactive this time around"
   ],
   "cell_type": "markdown",
   "metadata": {}
  },
  {
   "cell_type": "code",
   "execution_count": 7,
   "metadata": {},
   "outputs": [],
   "source": [
    "#Insert day column for pandas datetime\n",
    "df_eng.insert(4,\"day\",1,True)\n",
    "\n",
    "#Make a new date-time column for plotting and time series data\n",
    "df_eng['date'] = pd.to_datetime(df_eng[['day','month','year']].astype(str).sum(axis=1))"
   ]
  },
  {
   "cell_type": "code",
   "execution_count": 8,
   "metadata": {},
   "outputs": [
    {
     "output_type": "display_data",
     "data": {
      "text/plain": "Canvas(toolbar=Toolbar(toolitems=[('Home', 'Reset original view', 'home', 'home'), ('Back', 'Back to previous …",
      "application/vnd.jupyter.widget-view+json": {
       "version_major": 2,
       "version_minor": 0,
       "model_id": "85a4703994124fe09a73e7d17bff596d"
      }
     },
     "metadata": {}
    }
   ],
   "source": [
    "#Lets the plots interactive\n",
    "%matplotlib widget\n",
    "from matplotlib import pyplot as plt\n",
    "plt.figure(figsize= (10,5))\n",
    "\n",
    "#Plot the two productions\n",
    "x = df_eng['date']\n",
    "y1 = df_eng['sugar_cane']\n",
    "y2 = df_eng['corn']\n",
    "\n",
    "plt.xlabel('Date')\n",
    "plt.ylabel('Production in Cubic Meters')\n",
    "plt.plot(x,y1, label = \"Sugar Cane\")\n",
    "plt.plot(x,y2, label = \"Corn\")\n",
    "plt.legend(bbox_to_anchor=(1, 1), loc='bottom left')\n",
    "\n",
    "plt.title(\"Corn & Sugar Cane Bioethanol Production\")\n",
    "\n",
    "plt.show()\n"
   ]
  },
  {
   "cell_type": "code",
   "execution_count": 9,
   "metadata": {},
   "outputs": [
    {
     "output_type": "display_data",
     "data": {
      "text/plain": "Canvas(toolbar=Toolbar(toolitems=[('Home', 'Reset original view', 'home', 'home'), ('Back', 'Back to previous …",
      "application/vnd.jupyter.widget-view+json": {
       "version_major": 2,
       "version_minor": 0,
       "model_id": "fcecb629fa974dccb2f387f4d74c6553"
      }
     },
     "metadata": {}
    }
   ],
   "source": [
    "#Plot total of both of them\n",
    "plt.figure(figsize= (10,5))\n",
    "x = df_eng['date']\n",
    "y1 = df_eng['total']\n",
    "\n",
    "plt.xlabel('Date')\n",
    "plt.ylabel('Production in Cubic Meters')\n",
    "plt.plot(x,y1, label = \"Total Production\")\n",
    "plt.title('Total Bioethanol Production')\n",
    "plt.legend(bbox_to_anchor=(1, 1), loc='bottom left')\n",
    "\n",
    "plt.show()"
   ]
  },
  {
   "cell_type": "code",
   "execution_count": 10,
   "metadata": {},
   "outputs": [],
   "source": [
    "y_sugar = df_eng[['date','sugar_cane']]\n",
    "y_sugar = y_sugar.set_index('date')"
   ]
  },
  {
   "cell_type": "code",
   "execution_count": 11,
   "metadata": {},
   "outputs": [
    {
     "output_type": "display_data",
     "data": {
      "text/plain": "Canvas(toolbar=Toolbar(toolitems=[('Home', 'Reset original view', 'home', 'home'), ('Back', 'Back to previous …",
      "application/vnd.jupyter.widget-view+json": {
       "version_major": 2,
       "version_minor": 0,
       "model_id": "72d29ed5e2ff4b729664f71c1594ed14"
      }
     },
     "metadata": {}
    }
   ],
   "source": [
    "# lets decompose our time series quickly\n",
    "# this allows us to decompose our time series into three distinct components: Trend, Seasonality, and Noise\n",
    "from pylab import rcParams\n",
    "import statsmodels.api as sm\n",
    "rcParams['figure.figsize'] = 10, 5\n",
    "decomposition = sm.tsa.seasonal_decompose(y_sugar, model='additive')\n",
    "fig = decomposition.plot()\n",
    "plt.show()"
   ]
  },
  {
   "source": [
    "The Sugar Cane definitely seems seasonal"
   ],
   "cell_type": "markdown",
   "metadata": {}
  },
  {
   "cell_type": "code",
   "execution_count": 12,
   "metadata": {},
   "outputs": [],
   "source": [
    "y_corn = df_eng[['date','corn']]\n",
    "y_corn = y_corn.set_index('date')"
   ]
  },
  {
   "cell_type": "code",
   "execution_count": 13,
   "metadata": {},
   "outputs": [
    {
     "output_type": "display_data",
     "data": {
      "text/plain": "Canvas(toolbar=Toolbar(toolitems=[('Home', 'Reset original view', 'home', 'home'), ('Back', 'Back to previous …",
      "application/vnd.jupyter.widget-view+json": {
       "version_major": 2,
       "version_minor": 0,
       "model_id": "0cf1825a6133430fa1782c1dac4b8b26"
      }
     },
     "metadata": {}
    }
   ],
   "source": [
    "rcParams['figure.figsize'] = 10, 5\n",
    "decomposition = sm.tsa.seasonal_decompose(y_corn, model='additive')\n",
    "fig = decomposition.plot()\n",
    "plt.show()"
   ]
  },
  {
   "source": [
    "Looks like corn has some seasonality as well."
   ],
   "cell_type": "markdown",
   "metadata": {}
  },
  {
   "source": [
    "## ARIMA MODEL\n",
    "\n",
    "ARIMA stands for Autoregressive Integrated Moving Average. "
   ],
   "cell_type": "markdown",
   "metadata": {}
  },
  {
   "cell_type": "code",
   "execution_count": 18,
   "metadata": {},
   "outputs": [
    {
     "output_type": "stream",
     "name": "stdout",
     "text": [
      "                             ARIMA Model Results                              \n",
      "==============================================================================\n",
      "Dep. Variable:                 D.corn   No. Observations:                   28\n",
      "Model:                 ARIMA(1, 1, 1)   Log Likelihood                -265.095\n",
      "Method:                       css-mle   S.D. of innovations           2990.180\n",
      "Date:                Thu, 03 Dec 2020   AIC                            538.189\n",
      "Time:                        17:08:20   BIC                            543.518\n",
      "Sample:                    02-01-2017   HQIC                           539.818\n",
      "                         - 05-01-2019                                         \n",
      "================================================================================\n",
      "                   coef    std err          z      P>|z|      [0.025      0.975]\n",
      "--------------------------------------------------------------------------------\n",
      "const           91.0287    104.115      0.874      0.390    -113.033     295.091\n",
      "ar.L1.D.corn     0.4042      0.179      2.261      0.033       0.054       0.755\n",
      "ma.L1.D.corn    -1.0000      0.122     -8.198      0.000      -1.239      -0.761\n",
      "                                    Roots                                    \n",
      "=============================================================================\n",
      "                  Real          Imaginary           Modulus         Frequency\n",
      "-----------------------------------------------------------------------------\n",
      "AR.1            2.4740           +0.0000j            2.4740            0.0000\n",
      "MA.1            1.0000           +0.0000j            1.0000            0.0000\n",
      "-----------------------------------------------------------------------------\n",
      "D:\\Anaconda\\lib\\site-packages\\statsmodels\\tsa\\base\\tsa_model.py:165: ValueWarning: No frequency information was provided, so inferred frequency MS will be used.\n",
      "  % freq, ValueWarning)\n",
      "D:\\Anaconda\\lib\\site-packages\\statsmodels\\tsa\\base\\tsa_model.py:165: ValueWarning: No frequency information was provided, so inferred frequency MS will be used.\n",
      "  % freq, ValueWarning)\n"
     ]
    }
   ],
   "source": [
    "from statsmodels.tsa.arima_model import ARIMA\n",
    "from sklearn.metrics import mean_squared_error\n",
    "\n",
    "model = ARIMA(y_corn, order=(1,1,1))\n",
    "model_fit = model.fit(disp=0)\n",
    "print(model_fit.summary())"
   ]
  },
  {
   "cell_type": "code",
   "execution_count": 19,
   "metadata": {},
   "outputs": [
    {
     "output_type": "display_data",
     "data": {
      "text/plain": "Canvas(toolbar=Toolbar(toolitems=[('Home', 'Reset original view', 'home', 'home'), ('Back', 'Back to previous …",
      "application/vnd.jupyter.widget-view+json": {
       "version_major": 2,
       "version_minor": 0,
       "model_id": "05a3021f12c84ee998e306cad9d19d24"
      }
     },
     "metadata": {}
    },
    {
     "output_type": "display_data",
     "data": {
      "text/plain": "Canvas(toolbar=Toolbar(toolitems=[('Home', 'Reset original view', 'home', 'home'), ('Back', 'Back to previous …",
      "application/vnd.jupyter.widget-view+json": {
       "version_major": 2,
       "version_minor": 0,
       "model_id": "c7ffe7e7e7d84e8aa869334d6f9f41fa"
      }
     },
     "metadata": {}
    },
    {
     "output_type": "stream",
     "name": "stdout",
     "text": [
      "                  0\ncount     28.000000\nmean     102.945520\nstd     3157.421061\nmin   -10190.214238\n25%    -1371.612155\n50%      507.820902\n75%     1925.651073\nmax     4906.790780\n"
     ]
    }
   ],
   "source": [
    "# plot residual errors\n",
    "residuals = pd.DataFrame(model_fit.resid)\n",
    "residuals.plot()\n",
    "plt.show()\n",
    "residuals.plot(kind='kde')\n",
    "plt.show()\n",
    "print(residuals.describe())"
   ]
  },
  {
   "cell_type": "code",
   "execution_count": null,
   "metadata": {},
   "outputs": [],
   "source": []
  }
 ],
 "metadata": {
  "kernelspec": {
   "display_name": "Python 3",
   "language": "python",
   "name": "python3"
  },
  "language_info": {
   "codemirror_mode": {
    "name": "ipython",
    "version": 3
   },
   "file_extension": ".py",
   "mimetype": "text/x-python",
   "name": "python",
   "nbconvert_exporter": "python",
   "pygments_lexer": "ipython3",
   "version": "3.7.3-final"
  }
 },
 "nbformat": 4,
 "nbformat_minor": 2
}